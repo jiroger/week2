{
 "cells": [
  {
   "cell_type": "markdown",
   "metadata": {},
   "source": [
    "# MyGrad\n",
    "\n",
    "Clone and install [MyGrad](https://github.com/LLCogWorks2017/MyGrad)\n",
    "\n",
    "1. Read through `Tensor.__init__`. Note the keyword arguments that it accepts, and read their descriptions. Why might it be useful to distinguish a `Tensor` as \"constant\"?\n",
    "\n",
    "2. Read the documentation for `numpy.asarray`. Why would we want to use this versus `numpy.array`?\n",
    "\n",
    "3. Complete the code in `Tensor._op`.\n",
    "\n",
    "4. Complete the code in `Tensor.backward`.\n",
    "\n",
    "5. Study the directory structure of MyGrad. Note how the Operations are organized. Study the contents of MyGrad/operations/operations_base.py. Note the familiar `Operation` class, and a fancier `BroadcastableOp`.\n",
    "\n",
    "6. Read through MyGrad/operations/multiply.py and then implement code in MyGrad/operations/subtract.py. \n",
    "\n",
    "7. Complete the missing code in MyGrad/operations/__init__.py, MyGrad/math.py, and in the `__sub__` and `__rsub__` methods of `Tensor`.\n",
    "\n",
    "8. Go to [this GitHub issue](https://github.com/LLCogWorks2017/MyGrad/issues/1), and place the content of the top post into MyGrad/tests/test_subtract.py\n",
    "\n",
    "9. Experiment with your code in this notebook. What are some nice ops that we could add to make `Tensor` more similar to a numpy array? What about the ever-useful reshape function? How should a gradient propagate backward through this Op? Implement the missing code in MyGrad/operations/reshape.py\n",
    "\n",
    "10. Test your code by running the unit tests!\n",
    "```\n",
    "pytest MyGrad/tests\n",
    "```\n",
    "11. Devise a computational graphs, one for each of the following conditions: \n",
    "  - the resulting tensor is a constant\n",
    "  - triggering `.backprop` on the result raises the scalar-only exception\n",
    "  \n",
    "12. Implement augmented-update operations for `+, -, *, /, **`. \n",
    " - E.g. x += 2 triggers `__iadd__`\n",
    " -   (Hint: you do not need implement new ops for this. The simplest solution is the best one!)\n"
   ]
  },
  {
   "cell_type": "code",
   "execution_count": null,
   "metadata": {
    "collapsed": true
   },
   "outputs": [],
   "source": []
  }
 ],
 "metadata": {
  "kernelspec": {
   "display_name": "Python 3",
   "language": "python",
   "name": "python3"
  },
  "language_info": {
   "codemirror_mode": {
    "name": "ipython",
    "version": 3
   },
   "file_extension": ".py",
   "mimetype": "text/x-python",
   "name": "python",
   "nbconvert_exporter": "python",
   "pygments_lexer": "ipython3",
   "version": "3.6.1"
  }
 },
 "nbformat": 4,
 "nbformat_minor": 2
}
